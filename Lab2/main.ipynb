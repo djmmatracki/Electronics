{
 "cells": [
  {
   "cell_type": "markdown",
   "metadata": {},
   "source": [
    "<h4 align=\"center\" >Sprawozdanie</h4>\n",
    "<h4 align=\"center\" >Elektronika analogowa</h4>\n",
    "<h1 align=\"center\" >Filtry Pasywne</h1>\n",
    "\n",
    "<div style=\"width: 100%; height: 100px;\"></div>\n",
    "\n",
    "# 1. Wstep\n",
    "\n",
    "Filtrem częstotliwości nazywamy układ o strukturze czwórnika (czwórnik to układ mający cztery zaciski – jedna z par zacisków pełni rolę wejścia, zaś druga wyjścia), który przepuszcza bez tłumienia lub z małym tłumieniem napięcia i prądy o określonym paśmie częstotliwości, a tłumi napięcia i prądy leżące poza tym pasmem. Filtry częstotliwości mają głównie zastosowanie w urządzeniach elektronicznych i energetycznych.\n",
    "\n",
    "Wyrozniamy filtry aktywne, czyli takie w, ktorych ukladzie wykorzystuje sie elementy aktywne takie jak wzmacniacze operacyjne. Na zajeciach zajmowalismy sie filtrami pasywnymi zbudowanych z samych elementow pasywnych."
   ]
  },
  {
   "cell_type": "code",
   "execution_count": 1,
   "metadata": {},
   "outputs": [],
   "source": [
    "import pandas as pd\n",
    "import numpy as np\n",
    "import scipy.signal as signal\n",
    "import matplotlib.pyplot as plt\n",
    "from IPython.display import clear_output"
   ]
  },
  {
   "cell_type": "markdown",
   "metadata": {},
   "source": [
    "# Filtr dolnoprzepustowy\n",
    "\n",
    "Pracowalismy na stanowisku numer 5 przydzielona do naszego stanowiska rezystancja wynosila $10 k\\Omega$ natomiast pojemnosc wynosila $330 pF$. Do pomiarow wykorzystalismy kondensator o pojemnosci $408 pF$ oraz rezystor o rezystancji $9,9664 k\\Omega$."
   ]
  },
  {
   "cell_type": "code",
   "execution_count": 2,
   "metadata": {},
   "outputs": [
    {
     "name": "stdout",
     "output_type": "stream",
     "text": [
      "Czestotliwosc graniczna uzytego filtra wynosi: 483.9136562239894\n"
     ]
    }
   ],
   "source": [
    "R = 9.9664 * 10e3\n",
    "C = 330 * 10e-12\n",
    "\n",
    "# Czestotliwosc graniczna naszego filtra\n",
    "borderFreq = 1 / (2* np.pi * R * C)\n",
    "print(f\"Czestotliwosc graniczna uzytego filtra wynosi: {borderFreq}\")"
   ]
  },
  {
   "cell_type": "markdown",
   "metadata": {},
   "source": [
    "<div style=\"width: 100%; height: 100px;\"></div>\n",
    "\n",
    "### Transmitancja filtra dolno przepustowego\n",
    "\n",
    "$$G(s) = \\frac{1}{1 + RCs}$$\n",
    "$$G(s) = \\frac{1}{1 + 3.288912 \\cdot 10^{-4}s}$$"
   ]
  },
  {
   "cell_type": "code",
   "execution_count": 3,
   "metadata": {},
   "outputs": [
    {
     "data": {
      "text/html": [
       "<div>\n",
       "<style scoped>\n",
       "    .dataframe tbody tr th:only-of-type {\n",
       "        vertical-align: middle;\n",
       "    }\n",
       "\n",
       "    .dataframe tbody tr th {\n",
       "        vertical-align: top;\n",
       "    }\n",
       "\n",
       "    .dataframe thead th {\n",
       "        text-align: right;\n",
       "    }\n",
       "</style>\n",
       "<table border=\"1\" class=\"dataframe\">\n",
       "  <thead>\n",
       "    <tr style=\"text-align: right;\">\n",
       "      <th></th>\n",
       "      <th>Vpp_wyj</th>\n",
       "      <th>Vpp_wej</th>\n",
       "      <th>Freq</th>\n",
       "      <th>G[db]</th>\n",
       "    </tr>\n",
       "  </thead>\n",
       "  <tbody>\n",
       "    <tr>\n",
       "      <th>0</th>\n",
       "      <td>1.04</td>\n",
       "      <td>1.02</td>\n",
       "      <td>1.0</td>\n",
       "      <td>0.168663</td>\n",
       "    </tr>\n",
       "    <tr>\n",
       "      <th>1</th>\n",
       "      <td>1.04</td>\n",
       "      <td>1.02</td>\n",
       "      <td>1.3</td>\n",
       "      <td>0.168663</td>\n",
       "    </tr>\n",
       "    <tr>\n",
       "      <th>2</th>\n",
       "      <td>1.04</td>\n",
       "      <td>1.02</td>\n",
       "      <td>1.7</td>\n",
       "      <td>0.168663</td>\n",
       "    </tr>\n",
       "    <tr>\n",
       "      <th>3</th>\n",
       "      <td>1.04</td>\n",
       "      <td>1.02</td>\n",
       "      <td>2.1</td>\n",
       "      <td>0.168663</td>\n",
       "    </tr>\n",
       "    <tr>\n",
       "      <th>4</th>\n",
       "      <td>1.02</td>\n",
       "      <td>1.02</td>\n",
       "      <td>2.8</td>\n",
       "      <td>0.000000</td>\n",
       "    </tr>\n",
       "    <tr>\n",
       "      <th>5</th>\n",
       "      <td>1.04</td>\n",
       "      <td>1.02</td>\n",
       "      <td>3.6</td>\n",
       "      <td>0.168663</td>\n",
       "    </tr>\n",
       "    <tr>\n",
       "      <th>6</th>\n",
       "      <td>1.02</td>\n",
       "      <td>1.02</td>\n",
       "      <td>4.6</td>\n",
       "      <td>0.000000</td>\n",
       "    </tr>\n",
       "    <tr>\n",
       "      <th>7</th>\n",
       "      <td>1.04</td>\n",
       "      <td>1.02</td>\n",
       "      <td>6.0</td>\n",
       "      <td>0.168663</td>\n",
       "    </tr>\n",
       "    <tr>\n",
       "      <th>8</th>\n",
       "      <td>1.00</td>\n",
       "      <td>1.02</td>\n",
       "      <td>7.7</td>\n",
       "      <td>-0.172003</td>\n",
       "    </tr>\n",
       "    <tr>\n",
       "      <th>9</th>\n",
       "      <td>1.00</td>\n",
       "      <td>1.02</td>\n",
       "      <td>10.0</td>\n",
       "      <td>-0.172003</td>\n",
       "    </tr>\n",
       "    <tr>\n",
       "      <th>10</th>\n",
       "      <td>0.96</td>\n",
       "      <td>1.02</td>\n",
       "      <td>13.0</td>\n",
       "      <td>-0.526579</td>\n",
       "    </tr>\n",
       "    <tr>\n",
       "      <th>11</th>\n",
       "      <td>0.94</td>\n",
       "      <td>1.02</td>\n",
       "      <td>17.0</td>\n",
       "      <td>-0.709446</td>\n",
       "    </tr>\n",
       "    <tr>\n",
       "      <th>12</th>\n",
       "      <td>0.90</td>\n",
       "      <td>1.02</td>\n",
       "      <td>21.0</td>\n",
       "      <td>-1.087153</td>\n",
       "    </tr>\n",
       "    <tr>\n",
       "      <th>13</th>\n",
       "      <td>0.82</td>\n",
       "      <td>1.02</td>\n",
       "      <td>28.0</td>\n",
       "      <td>-1.895726</td>\n",
       "    </tr>\n",
       "    <tr>\n",
       "      <th>14</th>\n",
       "      <td>0.76</td>\n",
       "      <td>1.02</td>\n",
       "      <td>36.0</td>\n",
       "      <td>-2.555732</td>\n",
       "    </tr>\n",
       "    <tr>\n",
       "      <th>15</th>\n",
       "      <td>0.66</td>\n",
       "      <td>1.02</td>\n",
       "      <td>46.0</td>\n",
       "      <td>-3.781125</td>\n",
       "    </tr>\n",
       "    <tr>\n",
       "      <th>16</th>\n",
       "      <td>0.56</td>\n",
       "      <td>1.02</td>\n",
       "      <td>60.0</td>\n",
       "      <td>-5.208243</td>\n",
       "    </tr>\n",
       "    <tr>\n",
       "      <th>17</th>\n",
       "      <td>0.48</td>\n",
       "      <td>1.02</td>\n",
       "      <td>77.0</td>\n",
       "      <td>-6.547179</td>\n",
       "    </tr>\n",
       "    <tr>\n",
       "      <th>18</th>\n",
       "      <td>0.38</td>\n",
       "      <td>1.02</td>\n",
       "      <td>100.0</td>\n",
       "      <td>-8.576332</td>\n",
       "    </tr>\n",
       "  </tbody>\n",
       "</table>\n",
       "</div>"
      ],
      "text/plain": [
       "    Vpp_wyj  Vpp_wej   Freq     G[db]\n",
       "0      1.04     1.02    1.0  0.168663\n",
       "1      1.04     1.02    1.3  0.168663\n",
       "2      1.04     1.02    1.7  0.168663\n",
       "3      1.04     1.02    2.1  0.168663\n",
       "4      1.02     1.02    2.8  0.000000\n",
       "5      1.04     1.02    3.6  0.168663\n",
       "6      1.02     1.02    4.6  0.000000\n",
       "7      1.04     1.02    6.0  0.168663\n",
       "8      1.00     1.02    7.7 -0.172003\n",
       "9      1.00     1.02   10.0 -0.172003\n",
       "10     0.96     1.02   13.0 -0.526579\n",
       "11     0.94     1.02   17.0 -0.709446\n",
       "12     0.90     1.02   21.0 -1.087153\n",
       "13     0.82     1.02   28.0 -1.895726\n",
       "14     0.76     1.02   36.0 -2.555732\n",
       "15     0.66     1.02   46.0 -3.781125\n",
       "16     0.56     1.02   60.0 -5.208243\n",
       "17     0.48     1.02   77.0 -6.547179\n",
       "18     0.38     1.02  100.0 -8.576332"
      ]
     },
     "execution_count": 3,
     "metadata": {},
     "output_type": "execute_result"
    }
   ],
   "source": [
    "dolnoPrzepustowy = pd.read_csv(\"dolno_przepustowy.csv\", sep=\";\")\n",
    "dolnoPrzepustowy[\"G[db]\"] = 20 * np.log10(dolnoPrzepustowy[\"Vpp_wyj\"] / dolnoPrzepustowy[\"Vpp_wej\"])\n",
    "dolnoPrzepustowy"
   ]
  },
  {
   "cell_type": "markdown",
   "metadata": {},
   "source": [
    "<div style=\"width: 100%; height: 240px;\"></div>"
   ]
  },
  {
   "cell_type": "code",
   "execution_count": 25,
   "metadata": {},
   "outputs": [
    {
     "data": {
      "image/png": "[encoded data removed]",
      "text/plain": [
       "<Figure size 504x504 with 1 Axes>"
      ]
     },
     "metadata": {
      "needs_background": "light"
     },
     "output_type": "display_data"
    },
    {
     "data": {
      "image/png": "[encoded data removed]",
      "text/plain": [
       "<Figure size 1008x504 with 2 Axes>"
      ]
     },
     "metadata": {
      "needs_background": "light"
     },
     "output_type": "display_data"
    }
   ],
   "source": [
    "num = [0, 5]\n",
    "den = [R*C, 1]\n",
    "s1 = signal.TransferFunction(num, den)\n",
    "\n",
    "w, nyquist = signal.freqresp(s1)\n",
    "clear_output()\n",
    "\n",
    "plt.figure(figsize=(7, 7))\n",
    "plt.title(\"Charakterystyka Nyquista dla zbudowanego filtra dolnoprzepustowego\", fontsize=20)\n",
    "plt.plot(nyquist.real, nyquist.imag, \"b\")\n",
    "plt.plot(nyquist.real, -nyquist.imag, \"r\")\n",
    "plt.xlabel(\"Re\", fontsize=18)\n",
    "plt.ylabel(\"Img\", fontsize=18)\n",
    "plt.grid()\n",
    "plt.show()\n",
    "\n",
    "w, mag, phase = signal.bode(s1, w=np.linspace(10e-4, 10e6, 1000000))\n",
    "\n",
    "fig, (ax1, ax2) = plt.subplots(1, 2, figsize=(14, 7))\n",
    "fig.suptitle(\"Charakterystyka Bodego\", fontsize=16)\n",
    "ax1.semilogx(w, mag)\n",
    "ax1.grid()\n",
    "ax1.set_title(\"Wykres charakterystyki czestotliwosciowej\", fontsize=15)\n",
    "ax1.set_xlabel(\"$\\omega$\", fontsize=14)\n",
    "ax1.set_ylabel(\"dB\", fontsize=14)\n",
    "\n",
    "ax2.semilogx(w, phase)\n",
    "ax2.set_xlim(10e-10, 10e10)\n",
    "ax2.set_title(\"Wykres charakterystyki fazowej\", fontsize=15)\n",
    "ax2.grid()\n",
    "ax2.set_xlabel(\"$\\omega$\", fontsize=14)\n",
    "ax2.set_ylabel(\"dB\", fontsize=14)\n",
    "plt.show()"
   ]
  }
 ],
 "metadata": {
  "interpreter": {
   "hash": "bbb4e98c3da188e0a3c2589025269811d2a5cdc38d7794a3a43ec408cc6b8691"
  },
  "kernelspec": {
   "display_name": "Python 3 (ipykernel)",
   "language": "python",
   "name": "python3"
  },
  "language_info": {
   "codemirror_mode": {
    "name": "ipython",
    "version": 3
   },
   "file_extension": ".py",
   "mimetype": "text/x-python",
   "name": "python",
   "nbconvert_exporter": "python",
   "pygments_lexer": "ipython3",
   "version": "3.9.7"
  }
 },
 "nbformat": 4,
 "nbformat_minor": 2
}
