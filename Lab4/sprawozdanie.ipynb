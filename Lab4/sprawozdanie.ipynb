{
 "cells": [
  {
   "cell_type": "code",
   "execution_count": 2,
   "metadata": {},
   "outputs": [],
   "source": [
    "import matplotlib.pyplot as plt\n",
    "import numpy as np"
   ]
  },
  {
   "cell_type": "code",
   "execution_count": 7,
   "metadata": {},
   "outputs": [],
   "source": [
    "Vpp_wyj = [1.1, 1.12, 1.12, 1.12, 1.12, 1.12, 1.12, 1.12, 1.20, 1.20, 1.28, 1.28, 1.36, 1.44, 2.32, 1.68, 0.8, 1.52, 0.4, 0.32, 0.24]\n",
    "Vpp_wej = [1.12 for _ in range(21)]\n",
    "f = []\n",
    "# 100\n",
    "# kHz\t\n",
    "# 126\n",
    "# kHz\n",
    "# 158\n",
    "# kHz\t199\n",
    "# kHz\t251\n",
    "# kHz\t316\n",
    "# kHz\t398\n",
    "# kHz\t501\n",
    "# kHz\t631\n",
    "# kHz\t794\n",
    "# kHz\t1\n",
    "# MHz\t1,26\n",
    "# MHz\t1,58\n",
    "# MHz\t1,99\n",
    "# MHz\t2,51\n",
    "# MHz\t3,16\n",
    "# MHz\t3,98\n",
    "# MHz\t5,01\n",
    "# MHz\t6,31\n",
    "# MHz\t7,94\n",
    "# 10\n",
    "# print(len(Vpp_wyj))\n",
    "# plt.plot(Vpp, Vpp_wyj)"
   ]
  },
  {
   "cell_type": "code",
   "execution_count": 8,
   "metadata": {},
   "outputs": [
    {
     "data": {
      "text/plain": [
       "3.1696787148594376"
      ]
     },
     "execution_count": 8,
     "metadata": {},
     "output_type": "execute_result"
    }
   ],
   "source": [
    "# 34 - 2.161 k \\Omega\n",
    "# 31 - 0.996 k \\Omega\n",
    "R_B = 2.161 * 1e3\n",
    "R_A = 0.996 * 1e3\n",
    "\n",
    "k = 1 + R_B / R_A\n",
    "k"
   ]
  },
  {
   "cell_type": "markdown",
   "metadata": {},
   "source": [
    "### Wzmacniacz niedwracajacy"
   ]
  },
  {
   "cell_type": "code",
   "execution_count": null,
   "metadata": {},
   "outputs": [],
   "source": [
    "Vpp_wyj = [3.24, 3.24, 3.24, 3.24, 3.24, 3.24, 3.20, 3.16, 3.12, 3.08, 2.88, 2.64, 2.24, 1.800, 1.360, 0.980, 0.664, 0.456, 0.300, 0.204, 0.148]\n",
    "przesuniecie = [10, 8, 6.32, 5.20, 4.12, 3.32, 2.68, 2.16, 1.76, 1.42, 1.18, 0.98, 0.80, 0.656, 0.544, 0.452, 0.372, 0.308, 0.252, 0.206, 0.170] * 1e-6"
   ]
  },
  {
   "cell_type": "markdown",
   "metadata": {},
   "source": [
    "Wzmacniacz Odwracajacy"
   ]
  }
 ],
 "metadata": {
  "interpreter": {
   "hash": "c00fa9deb84f3ab2ef790dc35af2d5a70199d3d7d7f29ed679cd956647e13607"
  },
  "kernelspec": {
   "display_name": "Python 3.9.7 ('venv': venv)",
   "language": "python",
   "name": "python3"
  },
  "language_info": {
   "codemirror_mode": {
    "name": "ipython",
    "version": 3
   },
   "file_extension": ".py",
   "mimetype": "text/x-python",
   "name": "python",
   "nbconvert_exporter": "python",
   "pygments_lexer": "ipython3",
   "version": "3.9.7"
  },
  "orig_nbformat": 4
 },
 "nbformat": 4,
 "nbformat_minor": 2
}
